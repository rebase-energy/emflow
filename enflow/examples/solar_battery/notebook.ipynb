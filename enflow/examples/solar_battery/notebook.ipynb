{
 "cells": [
  {
   "cell_type": "code",
   "execution_count": 1,
   "metadata": {},
   "outputs": [],
   "source": [
    "import numpy as np\n",
    "import pandas as pd\n",
    "import matplotlib.pyplot as plt\n",
    "import pvlib\n",
    "\n",
    "import energydatamodel as edm\n",
    "import enflow as ef\n",
    "\n",
    "from Utilities.PV_AC_Output import PV_AC_Output\n",
    "from Utilities.Data_import import calculate_retail_price\n",
    "from Utilities import Plot, KPI\n",
    "\n",
    "from Models.PV_BESS_LP_opt import PV_BESS_LP_solver\n",
    "from Models.PV_BESS_LP_time_horizon import PV_BESS_LP_Time_horizon_v2"
   ]
  },
  {
   "cell_type": "code",
   "execution_count": 2,
   "metadata": {},
   "outputs": [],
   "source": [
    "df_demand = pd.read_csv(\"data/electricity_demand.csv\", index_col=0, parse_dates=True)\n",
    "df_meteo = pd.read_csv(\"data/meteo_data.csv\", index_col=0, parse_dates=True)"
   ]
  },
  {
   "cell_type": "markdown",
   "metadata": {},
   "source": [
    "### 1) Create energy system"
   ]
  },
  {
   "cell_type": "code",
   "execution_count": 3,
   "metadata": {},
   "outputs": [],
   "source": [
    "pv_system = edm.PVSystem(name=\"my_pvsystem\",\n",
    "                         surface_tilt=30,\n",
    "                         surface_azimuth=180,\n",
    "                         capacity=4,\n",
    "                         module_type='glass_polymer',\n",
    "                         module_parameters={'gamma_pdc': -0.004})\n",
    "\n",
    "bess_system = edm.Battery(name=\"my_battery\",\n",
    "                          storage_capacity=8,   \n",
    "                       min_soc=0.1,               \n",
    "                       max_charge=0.5,           \n",
    "                       max_discharge=0.5,     \n",
    "                       charge_efficiency=1, \n",
    "                       discharge_efficiency=1)\n",
    "\n",
    "building = edm.Building(name=\"my_building\", \n",
    "                        location=edm.Location(longitude=18.0686, latitude=59.3293, tz='Europe/Stockholm'),\n",
    "                        assets=[pv_system, bess_system])"
   ]
  },
  {
   "cell_type": "code",
   "execution_count": 9,
   "metadata": {},
   "outputs": [],
   "source": [
    "# Calculate pv output data\n",
    "pvlib_system = pv_system.to_pvlib()\n",
    "pvlib_location = building.location.to_pvlib()\n",
    "\n",
    "modelchain = pvlib.modelchain.ModelChain(pvlib_system, pvlib_location, dc_model='pvwatts', aoi_model='no_loss', spectral_model='no_loss')\n",
    "power = modelchain.run_model(pvlib_location.get_clearsky(times=df_demand.index)).results.dc\n"
   ]
  },
  {
   "cell_type": "code",
   "execution_count": 10,
   "metadata": {},
   "outputs": [
    {
     "data": {
      "text/plain": [
       "<Axes: >"
      ]
     },
     "execution_count": 10,
     "metadata": {},
     "output_type": "execute_result"
    },
    {
     "data": {
      "image/png": "[encoded data removed]",
      "text/plain": [
       "<Figure size 640x480 with 1 Axes>"
      ]
     },
     "metadata": {},
     "output_type": "display_data"
    }
   ],
   "source": [
    "power.plot()"
   ]
  },
  {
   "cell_type": "code",
   "execution_count": 6,
   "metadata": {},
   "outputs": [],
   "source": [
    "if pv_system.module_parameters is None: \n",
    "    print(\"s\")"
   ]
  },
  {
   "cell_type": "code",
   "execution_count": null,
   "metadata": {},
   "outputs": [],
   "source": []
  },
  {
   "cell_type": "code",
   "execution_count": 7,
   "metadata": {},
   "outputs": [
    {
     "ename": "SyntaxError",
     "evalue": "incomplete input (677401646.py, line 14)",
     "output_type": "error",
     "traceback": [
      "\u001b[0;36m  Cell \u001b[0;32mIn[7], line 14\u001b[0;36m\u001b[0m\n\u001b[0;31m    data=df_inputs\u001b[0m\n\u001b[0m                  ^\u001b[0m\n\u001b[0;31mSyntaxError\u001b[0m\u001b[0;31m:\u001b[0m incomplete input\n"
     ]
    }
   ],
   "source": [
    "#Evaluation of the PV production/Users/sebaheg/Documents/electricity_demand.csv\n",
    "df_inputs['PVProduction'] = PV_AC_Output(\n",
    "                                    PV_rated_power=pv_syst.capacity,\n",
    "                                    start_day=start_day,\n",
    "                                    end_day=end_day,\n",
    "                                    GHI=df_meteo['SolarGHI'].values,\n",
    "                                    clear_sky_condition=False\n",
    ")\n",
    "\n",
    "#Create the Dataset\n",
    "PVBessDataset = ef.Dataset(name='Building 1',\n",
    "                           energy_system=building,\n",
    "                           description='PV-BESS system',\n",
    "                           data=df_inputs"
   ]
  }
 ],
 "metadata": {
  "kernelspec": {
   "display_name": ".venv_solar_battery",
   "language": "python",
   "name": "python3"
  },
  "language_info": {
   "codemirror_mode": {
    "name": "ipython",
    "version": 3
   },
   "file_extension": ".py",
   "mimetype": "text/x-python",
   "name": "python",
   "nbconvert_exporter": "python",
   "pygments_lexer": "ipython3",
   "version": "3.11.4"
  }
 },
 "nbformat": 4,
 "nbformat_minor": 2
}
