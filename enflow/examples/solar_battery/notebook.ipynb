{
 "cells": [
  {
   "cell_type": "code",
   "execution_count": 164,
   "metadata": {},
   "outputs": [],
   "source": [
    "import numpy as np\n",
    "import pandas as pd\n",
    "import matplotlib.pyplot as plt\n",
    "import pvlib\n",
    "\n",
    "import energydatamodel as edm\n",
    "import enflow as ef\n",
    "\n",
    "import gymnasium as gym\n",
    "\n",
    "from Utilities.PV_AC_Output import PV_AC_Output\n",
    "from Utilities.Data_import import calculate_retail_price\n",
    "from Utilities import Plot, KPI\n",
    "\n",
    "from Models.PV_BESS_LP_opt import PV_BESS_LP_solver\n",
    "from Models.PV_BESS_LP_time_horizon import PV_BESS_LP_Time_horizon_v2"
   ]
  },
  {
   "cell_type": "code",
   "execution_count": 165,
   "metadata": {},
   "outputs": [],
   "source": [
    "df_demand = pd.read_csv(\"data/electricity_demand.csv\", index_col=0, parse_dates=True)\n",
    "df_meteo = pd.read_csv(\"data/meteo_data.csv\", index_col=0, parse_dates=True)"
   ]
  },
  {
   "cell_type": "markdown",
   "metadata": {},
   "source": [
    "### 1) Create energy system"
   ]
  },
  {
   "cell_type": "code",
   "execution_count": 166,
   "metadata": {},
   "outputs": [],
   "source": [
    "pv_system = edm.PVSystem(name=\"my_pvsystem\",\n",
    "                         surface_tilt=30,\n",
    "                         surface_azimuth=180,\n",
    "                         capacity=4,\n",
    "                         module_type='glass_polymer',\n",
    "                         module_parameters={'gamma_pdc': -0.004})\n",
    "\n",
    "bess_system = edm.Battery(name=\"my_battery\",\n",
    "                          storage_capacity=8,   \n",
    "                       min_soc=0.1,               \n",
    "                       max_charge=0.5,           \n",
    "                       max_discharge=0.5,     \n",
    "                       charge_efficiency=1, \n",
    "                       discharge_efficiency=1)\n",
    "\n",
    "building = edm.Building(name=\"my_building\", \n",
    "                        location=edm.Location(longitude=18.0686, latitude=59.3293, tz='Europe/Stockholm'),\n",
    "                        assets=[pv_system, bess_system])"
   ]
  },
  {
   "cell_type": "code",
   "execution_count": 167,
   "metadata": {},
   "outputs": [],
   "source": [
    "# Calculate pv output data\n",
    "pvlib_system = pv_system.to_pvlib()\n",
    "pvlib_location = building.location.to_pvlib()\n",
    "\n",
    "solarposition = pvlib_location.get_solarposition(df_meteo.index)\n",
    "dni_dhi = pvlib.irradiance.erbs(ghi=df_meteo['ghi'].values, \n",
    "                                 zenith=solarposition['zenith'].values, \n",
    "                                 datetime_or_doy=df_meteo.index.dayofyear.values)\n",
    "df_meteo[\"dni\"] = dni_dhi[\"dni\"]\n",
    "df_meteo[\"dhi\"] = dni_dhi[\"dhi\"]\n",
    "\n",
    "modelchain = pvlib.modelchain.ModelChain(pvlib_system, pvlib_location, dc_model='pvwatts', aoi_model='no_loss', spectral_model='no_loss')\n",
    "df_pv_output_clearsky = modelchain.run_model(weather=pvlib_location.get_clearsky(times=df_demand.index)).results.dc\n",
    "df_pv_output = modelchain.run_model(weather=df_meteo).results.dc\n"
   ]
  },
  {
   "cell_type": "code",
   "execution_count": 168,
   "metadata": {},
   "outputs": [],
   "source": [
    "df = pd.concat([df_demand, df_pv_output_clearsky, df_pv_output], \n",
    "                axis=1)\n",
    "df.columns = [\"demand\", \"pv_output_clearsky\", \"pv_output\"]"
   ]
  },
  {
   "cell_type": "code",
   "execution_count": 170,
   "metadata": {},
   "outputs": [
    {
     "data": {
      "text/html": [
       "<div>\n",
       "<style scoped>\n",
       "    .dataframe tbody tr th:only-of-type {\n",
       "        vertical-align: middle;\n",
       "    }\n",
       "\n",
       "    .dataframe tbody tr th {\n",
       "        vertical-align: top;\n",
       "    }\n",
       "\n",
       "    .dataframe thead th {\n",
       "        text-align: right;\n",
       "    }\n",
       "</style>\n",
       "<table border=\"1\" class=\"dataframe\">\n",
       "  <thead>\n",
       "    <tr style=\"text-align: right;\">\n",
       "      <th></th>\n",
       "      <th>demand</th>\n",
       "      <th>pv_output_clearsky</th>\n",
       "      <th>pv_output</th>\n",
       "    </tr>\n",
       "  </thead>\n",
       "  <tbody>\n",
       "    <tr>\n",
       "      <th>2019-01-01 00:00:00</th>\n",
       "      <td>4.45141</td>\n",
       "      <td>0.0</td>\n",
       "      <td>0.0</td>\n",
       "    </tr>\n",
       "    <tr>\n",
       "      <th>2019-01-01 01:00:00</th>\n",
       "      <td>4.25991</td>\n",
       "      <td>0.0</td>\n",
       "      <td>0.0</td>\n",
       "    </tr>\n",
       "    <tr>\n",
       "      <th>2019-01-01 02:00:00</th>\n",
       "      <td>4.07623</td>\n",
       "      <td>0.0</td>\n",
       "      <td>0.0</td>\n",
       "    </tr>\n",
       "    <tr>\n",
       "      <th>2019-01-01 03:00:00</th>\n",
       "      <td>4.15973</td>\n",
       "      <td>0.0</td>\n",
       "      <td>0.0</td>\n",
       "    </tr>\n",
       "    <tr>\n",
       "      <th>2019-01-01 04:00:00</th>\n",
       "      <td>4.10239</td>\n",
       "      <td>0.0</td>\n",
       "      <td>0.0</td>\n",
       "    </tr>\n",
       "  </tbody>\n",
       "</table>\n",
       "</div>"
      ],
      "text/plain": [
       "                      demand  pv_output_clearsky  pv_output\n",
       "2019-01-01 00:00:00  4.45141                 0.0        0.0\n",
       "2019-01-01 01:00:00  4.25991                 0.0        0.0\n",
       "2019-01-01 02:00:00  4.07623                 0.0        0.0\n",
       "2019-01-01 03:00:00  4.15973                 0.0        0.0\n",
       "2019-01-01 04:00:00  4.10239                 0.0        0.0"
      ]
     },
     "execution_count": 170,
     "metadata": {},
     "output_type": "execute_result"
    }
   ],
   "source": [
    "df.head()"
   ]
  },
  {
   "cell_type": "code",
   "execution_count": 173,
   "metadata": {},
   "outputs": [],
   "source": [
    "#Create the Dataset\n",
    "dataset = ef.Dataset(name=\"pvbess_dataset\",\n",
    "                    energy_system=building,\n",
    "                    description='Operate a PV and BESS system to minimize the electricity bill',\n",
    "                    data=df)"
   ]
  },
  {
   "cell_type": "code",
   "execution_count": 172,
   "metadata": {},
   "outputs": [],
   "source": [
    "state_space = gym.spaces.Dict(\n",
    "    {\n",
    "        \"pv_power\": gym.spaces.Box(low=0, high=pv_system.capacity, shape=(1,)),\n",
    "        \"demand\": gym.spaces.Box(low=0, high=np.inf, shape=(1,)),\n",
    "        \"bess_soc\": gym.spaces.Box(low=bess_system.min_soc*bess_system.storage_capacity, high=bess_system.storage_capacity, shape=(1,)),\n",
    "        \"power_price\": gym.spaces.Box(low=-np.inf, high=np.inf, shape=(1,)),\n",
    "    }\n",
    ")\n",
    "\n",
    "action_space = gym.spaces.Dict(\n",
    "    {\n",
    "        \"battery_charge\": gym.spaces.Box(low=-bess_system.max_discharge*bess_system.storage_capacity, high=bess_system.max_charge*bess_system.storage_capacity, shape=(1,)),\n",
    "        \"Trade\": gym.spaces.Box(low=-np.inf, high=np.inf, shape=(1,)),\n",
    "    }\n",
    ")"
   ]
  },
  {
   "cell_type": "code",
   "execution_count": null,
   "metadata": {},
   "outputs": [],
   "source": [
    "class PVBESSEnv(gym.Env):\n",
    "    def __init__(\n",
    "            self,\n",
    "            dataset: edm.Dataset,\n",
    "            initial_bess_soc: float\n",
    "    ):\n",
    "        self.state_space = state_space\n",
    "        self.action_space = action_space\n",
    "\n",
    "        self.data = dataset.data\n",
    "        \n",
    "        self.num_timesteps = len(self.data['Time'])\n",
    "        self.current_timestep = 0\n",
    "        \n",
    "        self.initial_bess_soc = initial_bess_soc\n",
    "        self.bess_soc = self.initial_bess_soc\n",
    "\n",
    "    def _create_state(self, action):\n",
    "\n",
    "        self.exogeneous_space = {\n",
    "            \"WholesalePrice\": self.data[\"WholesalePrices\"][self.current_timestep],\n",
    "            \"RetailPrice\": self.data[\"RetailPrices\"][self.current_timestep]\n",
    "        }\n",
    "\n",
    "        self.state_space[\"PVProduction\"] = self.data[\"PVProduction\"][self.current_timestep]\n",
    "        self.state_space[\"Load\"] = self.data[\"EnergyDemand\"][self.current_timestep]\n",
    "\n",
    "        if action[\"BatteryFlow\"] > 0: \n",
    "            #CHARGE\n",
    "            self.bess_soc = self.bess_soc + (action[\"BatteryFlow\"]*bess_system.charge_efficiency)\n",
    "        else:       \n",
    "            #DISCHARGE\n",
    "            self.bess_soc = self.bess_soc + (action[\"BatteryFlow\"]/bess_system.discharge_efficiency)\n",
    "        self.state_space['BESS_SOC'] = self.bess_soc\n",
    "        \n",
    "        return self.state_space, self.exogeneous_space\n",
    "    \n",
    "    def reset(self):\n",
    "        self.current_timestep = 0\n",
    "        self.bess_soc = self.initial_bess_soc\n",
    "\n",
    "        self.exogeneous_space = {\n",
    "            \"WholesalePrice\": self.data[\"WholesalePrices\"][self.current_timestep],\n",
    "            \"RetailPrice\": self.data[\"RetailPrices\"][self.current_timestep]\n",
    "        }\n",
    "\n",
    "        self.state_space = {\n",
    "            \"PVProduction\": self.data[\"PVProduction\"][self.current_timestep],\n",
    "            \"Load\": self.data[\"EnergyDemand\"][self.current_timestep],\n",
    "            \"BESS_SOC\": self.bess_soc\n",
    "        }\n",
    "        \n",
    "        return self.state_space, self.exogeneous_space\n",
    "\n",
    "    def step(self, action):\n",
    "        self.current_timestep += 1\n",
    "        done = self.current_timestep >= self.num_timesteps\n",
    "        if done is not True:\n",
    "            self.state_space, self.exogeneous_space = self._create_state(action)\n",
    "        else:\n",
    "            pass\n",
    "        return self.state_space, self.exogeneous_space, done\n",
    "\n",
    "env = PVBESSEnv(dataset=dataset, initial_bess_soc=bess_system.min_soc*bess_system.storage_capacity)"
   ]
  },
  {
   "cell_type": "code",
   "execution_count": null,
   "metadata": {},
   "outputs": [],
   "source": [
    "#TODO:\n",
    "# 1) Create the agents run the loop for 8760 steps and calculate the KPIs\n",
    "# 2) Run the optimization for the LP agent\n",
    "# 3) Make a nice plot to compare the results\n",
    "# 4) Make another environment where the agent get the full 8760 in one go"
   ]
  },
  {
   "cell_type": "markdown",
   "metadata": {},
   "source": []
  }
 ],
 "metadata": {
  "kernelspec": {
   "display_name": ".venv_solar_battery",
   "language": "python",
   "name": "python3"
  },
  "language_info": {
   "codemirror_mode": {
    "name": "ipython",
    "version": 3
   },
   "file_extension": ".py",
   "mimetype": "text/x-python",
   "name": "python",
   "nbconvert_exporter": "python",
   "pygments_lexer": "ipython3",
   "version": "3.11.4"
  }
 },
 "nbformat": 4,
 "nbformat_minor": 2
}
