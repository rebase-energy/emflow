{
 "cells": [
  {
   "cell_type": "code",
   "execution_count": 131,
   "metadata": {},
   "outputs": [],
   "source": [
    "import numpy as np\n",
    "import pandas as pd\n",
    "import matplotlib.pyplot as plt\n",
    "import pvlib\n",
    "\n",
    "import energydatamodel as edm\n",
    "import enflow as ef\n",
    "\n",
    "from Utilities.PV_AC_Output import PV_AC_Output\n",
    "from Utilities.Data_import import calculate_retail_price\n",
    "from Utilities import Plot, KPI\n",
    "\n",
    "from Models.PV_BESS_LP_opt import PV_BESS_LP_solver\n",
    "from Models.PV_BESS_LP_time_horizon import PV_BESS_LP_Time_horizon_v2"
   ]
  },
  {
   "cell_type": "code",
   "execution_count": 132,
   "metadata": {},
   "outputs": [],
   "source": [
    "df_demand = pd.read_csv(\"data/electricity_demand.csv\", index_col=0, parse_dates=True)\n",
    "df_meteo = pd.read_csv(\"data/meteo_data.csv\", index_col=0, parse_dates=True)"
   ]
  },
  {
   "cell_type": "markdown",
   "metadata": {},
   "source": [
    "### 1) Create energy system"
   ]
  },
  {
   "cell_type": "code",
   "execution_count": 133,
   "metadata": {},
   "outputs": [],
   "source": [
    "pv_system = edm.PVSystem(name=\"my_pvsystem\",\n",
    "                         surface_tilt=30,\n",
    "                         surface_azimuth=180,\n",
    "                         capacity=4,\n",
    "                         module_type='glass_polymer',\n",
    "                         module_parameters={'gamma_pdc': -0.004})\n",
    "\n",
    "bess_system = edm.Battery(name=\"my_battery\",\n",
    "                          storage_capacity=8,   \n",
    "                       min_soc=0.1,               \n",
    "                       max_charge=0.5,           \n",
    "                       max_discharge=0.5,     \n",
    "                       charge_efficiency=1, \n",
    "                       discharge_efficiency=1)\n",
    "\n",
    "building = edm.Building(name=\"my_building\", \n",
    "                        location=edm.Location(longitude=18.0686, latitude=59.3293, tz='Europe/Stockholm'),\n",
    "                        assets=[pv_system, bess_system])"
   ]
  },
  {
   "cell_type": "code",
   "execution_count": 134,
   "metadata": {},
   "outputs": [],
   "source": [
    "# Calculate pv output data\n",
    "pvlib_system = pv_system.to_pvlib()\n",
    "pvlib_location = building.location.to_pvlib()\n",
    "\n",
    "solarposition = pvlib_location.get_solarposition(df_meteo.index)\n",
    "dni_dhi = pvlib.irradiance.erbs(ghi=df_meteo['ghi'].values, \n",
    "                                 zenith=solarposition['zenith'].values, \n",
    "                                 datetime_or_doy=df_meteo.index.dayofyear.values)\n",
    "df_meteo[\"dni\"] = dni_dhi[\"dni\"]\n",
    "df_meteo[\"dhi\"] = dni_dhi[\"dhi\"]\n",
    "\n",
    "modelchain = pvlib.modelchain.ModelChain(pvlib_system, pvlib_location, dc_model='pvwatts', aoi_model='no_loss', spectral_model='no_loss')\n",
    "pv_output_clearsky = modelchain.run_model(weather=pvlib_location.get_clearsky(times=df_demand.index)).results.dc\n",
    "pv_output = modelchain.run_model(weather=df_meteo).results.dc\n"
   ]
  },
  {
   "cell_type": "code",
   "execution_count": 130,
   "metadata": {},
   "outputs": [
    {
     "data": {
      "text/plain": [
       "17"
      ]
     },
     "execution_count": 130,
     "metadata": {},
     "output_type": "execute_result"
    }
   ],
   "source": [
    "len(time_index)"
   ]
  },
  {
   "cell_type": "code",
   "execution_count": 128,
   "metadata": {},
   "outputs": [
    {
     "data": {
      "text/plain": [
       "17"
      ]
     },
     "execution_count": 128,
     "metadata": {},
     "output_type": "execute_result"
    }
   ],
   "source": [
    "len(ghi)"
   ]
  },
  {
   "cell_type": "code",
   "execution_count": null,
   "metadata": {},
   "outputs": [],
   "source": []
  }
 ],
 "metadata": {
  "kernelspec": {
   "display_name": ".venv_solar_battery",
   "language": "python",
   "name": "python3"
  },
  "language_info": {
   "codemirror_mode": {
    "name": "ipython",
    "version": 3
   },
   "file_extension": ".py",
   "mimetype": "text/x-python",
   "name": "python",
   "nbconvert_exporter": "python",
   "pygments_lexer": "ipython3",
   "version": "3.11.4"
  }
 },
 "nbformat": 4,
 "nbformat_minor": 2
}
